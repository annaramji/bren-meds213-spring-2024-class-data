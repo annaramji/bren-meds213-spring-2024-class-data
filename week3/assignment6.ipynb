{
 "cells": [
  {
   "cell_type": "markdown",
   "metadata": {},
   "source": [
    "Assignment 6.2 \n",
    "\n",
    "Anna Ramji\n",
    "\n",
    "May 13, 2024"
   ]
  },
  {
   "cell_type": "code",
   "execution_count": 1,
   "metadata": {},
   "outputs": [],
   "source": [
    "import duckdb\n",
    "import pandas as pd"
   ]
  },
  {
   "cell_type": "code",
   "execution_count": 2,
   "metadata": {},
   "outputs": [],
   "source": [
    "conn = duckdb.connect(\"database.db\")\n",
    "c = conn.cursor()"
   ]
  },
  {
   "cell_type": "markdown",
   "metadata": {},
   "source": [
    "1. Create a query that will return the distinct species for which there is egg data (not all species and not all nests have egg data), so that you can then loop over those species. Your query should return two columns, species code and scientific name. Please order the results in alphabetic order of scientific name."
   ]
  },
  {
   "cell_type": "code",
   "execution_count": 3,
   "metadata": {},
   "outputs": [],
   "source": [
    "species_query = \"\"\"\n",
    "SELECT Code, Scientific_name\n",
    "FROM Species s\n",
    "INNER JOIN Bird_nests n ON s.Code = n.Species\n",
    "INNER JOIN Bird_eggs e ON n.Nest_ID = e.Nest_ID\n",
    "GROUP BY s.Code, s.Scientific_name\n",
    "ORDER BY s.Scientific_name;\n",
    "\"\"\""
   ]
  },
  {
   "cell_type": "code",
   "execution_count": 8,
   "metadata": {},
   "outputs": [
    {
     "name": "stdout",
     "output_type": "stream",
     "text": [
      "Arenaria interpres 21.12%\n",
      "Calidris alpina 5.46%\n",
      "Calidris fuscicollis 16.77%\n",
      "Charadrius semipalmatus 8.99%\n",
      "Phalaropus fulicarius 4.65%\n",
      "Pluvialis dominica 19.88%\n",
      "Pluvialis squatarola 6.94%\n"
     ]
    },
    {
     "name": "stderr",
     "output_type": "stream",
     "text": [
      "/var/folders/f0/hghycvd17md1j6yxt_xy041h0000gn/T/ipykernel_9664/4092251057.py:19: UserWarning: pandas only supports SQLAlchemy connectable (engine/connection) or database string URI or sqlite3 DBAPI2 connection. Other DBAPI2 objects are not tested. Please consider using SQLAlchemy.\n",
      "  df = pd.read_sql(egg_query, conn, params=(species_code,))\n"
     ]
    }
   ],
   "source": [
    "# define loop with query, using .fetchall()\n",
    "for row in c.execute(species_query).fetchall():\n",
    "    species_code = row[0]\n",
    "    scientific_name = row[1]\n",
    "\n",
    "    egg_query = \"\"\"\n",
    "    SELECT Width*Width*Length AS Volume\n",
    "    FROM Bird_eggs\n",
    "    WHERE Nest_ID IN (\n",
    "        SELECT Nest_ID\n",
    "        FROM Bird_nests\n",
    "        WHERE Species = ?\n",
    "    );\n",
    "    \"\"\"\n",
    "# directly load the results into a dataframe\n",
    "    df = pd.read_sql(egg_query, conn, params=(species_code,))\n",
    "    \n",
    "    # calculate variation\n",
    "    cv = round(df.Volume.std() / df.Volume.mean() * 100, 2)\n",
    "    \n",
    "    # output scientific name and cv\n",
    "    print(f\"{scientific_name} {cv}%\")"
   ]
  },
  {
   "cell_type": "markdown",
   "metadata": {},
   "source": []
  },
  {
   "cell_type": "code",
   "execution_count": 9,
   "metadata": {},
   "outputs": [],
   "source": [
    "conn.close()\n"
   ]
  },
  {
   "cell_type": "code",
   "execution_count": null,
   "metadata": {},
   "outputs": [],
   "source": []
  }
 ],
 "metadata": {
  "kernelspec": {
   "display_name": "native",
   "language": "python",
   "name": "python3"
  },
  "language_info": {
   "codemirror_mode": {
    "name": "ipython",
    "version": 3
   },
   "file_extension": ".py",
   "mimetype": "text/x-python",
   "name": "python",
   "nbconvert_exporter": "python",
   "pygments_lexer": "ipython3",
   "version": "3.12.2"
  }
 },
 "nbformat": 4,
 "nbformat_minor": 2
}
