{
 "cells": [
  {
   "cell_type": "code",
   "execution_count": null,
   "id": "e8bf4e7c-3d12-4b06-9f14-5956b317470d",
   "metadata": {},
   "outputs": [],
   "source": [
    "# use \"%\" operator (jupyter magic commands) as a partial shell "
   ]
  },
  {
   "cell_type": "code",
   "execution_count": 4,
   "id": "d7b2ef41-9041-4df6-bc86-868c2b6d3e22",
   "metadata": {},
   "outputs": [],
   "source": [
    "#%pip install duckdb\n",
    "import duckdb"
   ]
  },
  {
   "cell_type": "code",
   "execution_count": 5,
   "id": "91e1e2ed-944f-44bf-8c13-21e739db232c",
   "metadata": {},
   "outputs": [
    {
     "data": {
      "text/plain": [
       "'/Users/aramji/dev/github/meds/eds213/bren-meds213-spring-2024-class-data/week3'"
      ]
     },
     "execution_count": 5,
     "metadata": {},
     "output_type": "execute_result"
    }
   ],
   "source": [
    "%pwd"
   ]
  },
  {
   "cell_type": "markdown",
   "id": "a45aa192",
   "metadata": {},
   "source": [
    "Create connection and a cursor"
   ]
  },
  {
   "cell_type": "code",
   "execution_count": 6,
   "id": "c0928b50",
   "metadata": {},
   "outputs": [],
   "source": [
    "conn = duckdb.connect(\"database.db\")"
   ]
  },
  {
   "cell_type": "code",
   "execution_count": 7,
   "id": "9ac96776",
   "metadata": {},
   "outputs": [
    {
     "data": {
      "text/plain": [
       "<duckdb.duckdb.DuckDBPyConnection at 0x1113c0e30>"
      ]
     },
     "execution_count": 7,
     "metadata": {},
     "output_type": "execute_result"
    }
   ],
   "source": [
    "conn"
   ]
  },
  {
   "cell_type": "code",
   "execution_count": 8,
   "id": "eeaec2dc",
   "metadata": {},
   "outputs": [],
   "source": [
    "cur = conn.cursor()"
   ]
  },
  {
   "cell_type": "markdown",
   "id": "4b91853b",
   "metadata": {},
   "source": [
    "Now let's do something with our cursor"
   ]
  },
  {
   "cell_type": "code",
   "execution_count": 10,
   "id": "ce6f1609",
   "metadata": {},
   "outputs": [
    {
     "data": {
      "text/plain": [
       "<duckdb.duckdb.DuckDBPyConnection at 0x11146b230>"
      ]
     },
     "execution_count": 10,
     "metadata": {},
     "output_type": "execute_result"
    }
   ],
   "source": [
    "cur.execute(\"SELECT * FROM Site LIMIT 5\")"
   ]
  },
  {
   "cell_type": "markdown",
   "id": "0aceeda2",
   "metadata": {},
   "source": [
    "Now we want results... 3 ways of getting them."
   ]
  },
  {
   "cell_type": "markdown",
   "id": "d374d5b5",
   "metadata": {},
   "source": [
    "1. All results at once"
   ]
  },
  {
   "cell_type": "code",
   "execution_count": 12,
   "id": "b533de63",
   "metadata": {},
   "outputs": [
    {
     "data": {
      "text/plain": [
       "[('barr',\n",
       "  'Barrow',\n",
       "  'Alaska, USA',\n",
       "  71.30000305175781,\n",
       "  -156.60000610351562,\n",
       "  220.39999389648438),\n",
       " ('burn',\n",
       "  'Burntpoint Creek',\n",
       "  'Ontario, Canada',\n",
       "  55.20000076293945,\n",
       "  -84.30000305175781,\n",
       "  63.0),\n",
       " ('bylo',\n",
       "  'Bylot Island',\n",
       "  'Nunavut, Canada',\n",
       "  73.19999694824219,\n",
       "  -80.0,\n",
       "  723.5999755859375),\n",
       " ('cakr',\n",
       "  'Cape Krusenstern',\n",
       "  'Alaska, USA',\n",
       "  67.0999984741211,\n",
       "  -163.5,\n",
       "  54.099998474121094),\n",
       " ('cari',\n",
       "  'Canning River Delta',\n",
       "  'Alaska, USA',\n",
       "  70.0999984741211,\n",
       "  -145.8000030517578,\n",
       "  722.0)]"
      ]
     },
     "execution_count": 12,
     "metadata": {},
     "output_type": "execute_result"
    }
   ],
   "source": [
    "cur.fetchall()"
   ]
  },
  {
   "cell_type": "markdown",
   "id": "5f074e0f",
   "metadata": {},
   "source": [
    "you can also have it returned as a pd.dataframe (show later)"
   ]
  },
  {
   "cell_type": "markdown",
   "id": "7d4c8638",
   "metadata": {},
   "source": [
    "Cursors don't store anything, they just transfer queries to the database and get results back."
   ]
  },
  {
   "cell_type": "code",
   "execution_count": 13,
   "id": "7de45b2d",
   "metadata": {},
   "outputs": [
    {
     "data": {
      "text/plain": [
       "[]"
      ]
     },
     "execution_count": 13,
     "metadata": {},
     "output_type": "execute_result"
    }
   ],
   "source": [
    "cur.fetchall()"
   ]
  },
  {
   "cell_type": "markdown",
   "id": "73bb4c86",
   "metadata": {},
   "source": [
    "Cursor doesn't remember your list of 5 tuples... you'd have to rerun the cur.execute(\"query\") and then run fetchall() again. Up to you to save the results if you want to save them \n"
   ]
  },
  {
   "cell_type": "markdown",
   "id": "3747a9e0",
   "metadata": {},
   "source": [
    "Always get tuples, even if you only request one column."
   ]
  },
  {
   "cell_type": "code",
   "execution_count": 14,
   "id": "c1ac456d",
   "metadata": {},
   "outputs": [
    {
     "data": {
      "text/plain": [
       "<duckdb.duckdb.DuckDBPyConnection at 0x11146b230>"
      ]
     },
     "execution_count": 14,
     "metadata": {},
     "output_type": "execute_result"
    }
   ],
   "source": [
    "cur.execute(\"SELECT Nest_ID FROM Bird_nests LIMIT 10\")"
   ]
  },
  {
   "cell_type": "code",
   "execution_count": 15,
   "id": "38349893",
   "metadata": {},
   "outputs": [
    {
     "data": {
      "text/plain": [
       "[('14HPE1',),\n",
       " ('11eaba',),\n",
       " ('11eabaagc01',),\n",
       " ('11eabaagv01',),\n",
       " ('11eababbc02',),\n",
       " ('11eababsv01',),\n",
       " ('11eabaduh01',),\n",
       " ('11eabaduv01',),\n",
       " ('11eabarpc01',),\n",
       " ('11eabarpc02',)]"
      ]
     },
     "execution_count": 15,
     "metadata": {},
     "output_type": "execute_result"
    }
   ],
   "source": [
    "cur.fetchall()"
   ]
  },
  {
   "cell_type": "markdown",
   "id": "05e1611c",
   "metadata": {},
   "source": [
    "even though you've only requested 1 column, you still get back a tuple... a 1 tuple (value,)."
   ]
  },
  {
   "cell_type": "code",
   "execution_count": 16,
   "id": "c70da49d",
   "metadata": {},
   "outputs": [
    {
     "data": {
      "text/plain": [
       "['14HPE1',\n",
       " '11eaba',\n",
       " '11eabaagc01',\n",
       " '11eabaagv01',\n",
       " '11eababbc02',\n",
       " '11eababsv01',\n",
       " '11eabaduh01',\n",
       " '11eabaduv01',\n",
       " '11eabarpc01',\n",
       " '11eabarpc02']"
      ]
     },
     "execution_count": 16,
     "metadata": {},
     "output_type": "execute_result"
    }
   ],
   "source": [
    "cur.execute(\"SELECT Nest_ID FROM Bird_nests LIMIT 10\")\n",
    "[t[0] for t in cur.fetchall()]"
   ]
  },
  {
   "cell_type": "markdown",
   "id": "dc27a18b",
   "metadata": {},
   "source": [
    "list comprehension\n",
    "\n",
    "compact & useful  -- mini loop inside the square brackets\n",
    "\n",
    "give first element from each returned entry in the previous command"
   ]
  },
  {
   "cell_type": "markdown",
   "id": "f3ce0d42",
   "metadata": {},
   "source": [
    "2. Get the one result, or the next result"
   ]
  },
  {
   "cell_type": "code",
   "execution_count": 18,
   "id": "c16ef432",
   "metadata": {},
   "outputs": [
    {
     "data": {
      "text/plain": [
       "[(1547,)]"
      ]
     },
     "execution_count": 18,
     "metadata": {},
     "output_type": "execute_result"
    }
   ],
   "source": [
    "cur.execute(\"SELECT COUNT(*) FROM Bird_nests\")\n",
    "cur.fetchall()"
   ]
  },
  {
   "cell_type": "markdown",
   "id": "c698b0f6",
   "metadata": {},
   "source": [
    "if you only want 1 row, use `fetchone()`"
   ]
  },
  {
   "cell_type": "code",
   "execution_count": 21,
   "id": "7bcee600",
   "metadata": {},
   "outputs": [
    {
     "data": {
      "text/plain": [
       "(1547,)"
      ]
     },
     "execution_count": 21,
     "metadata": {},
     "output_type": "execute_result"
    }
   ],
   "source": [
    "cur.execute(\"SELECT COUNT(*) FROM Bird_nests\")\n",
    "cur.fetchone()"
   ]
  },
  {
   "cell_type": "code",
   "execution_count": 22,
   "id": "e78daa42",
   "metadata": {},
   "outputs": [
    {
     "data": {
      "text/plain": [
       "1547"
      ]
     },
     "execution_count": 22,
     "metadata": {},
     "output_type": "execute_result"
    }
   ],
   "source": [
    "cur.execute(\"SELECT COUNT(*) FROM Bird_nests\")\n",
    "cur.fetchone()[0]"
   ]
  },
  {
   "cell_type": "markdown",
   "id": "e7c4fa04",
   "metadata": {},
   "source": [
    "BTW, if you want to get help on things in Python, ask for help on a variable, will get back help on that variable's type."
   ]
  },
  {
   "cell_type": "code",
   "execution_count": 24,
   "id": "251bcfb5",
   "metadata": {},
   "outputs": [
    {
     "name": "stdout",
     "output_type": "stream",
     "text": [
      "Help on DuckDBPyConnection in module duckdb.duckdb object:\n",
      "\n",
      "class DuckDBPyConnection(pybind11_builtins.pybind11_object)\n",
      " |  Method resolution order:\n",
      " |      DuckDBPyConnection\n",
      " |      pybind11_builtins.pybind11_object\n",
      " |      builtins.object\n",
      " |  \n",
      " |  Methods defined here:\n",
      " |  \n",
      " |  __enter__(...)\n",
      " |      __enter__(self: duckdb.duckdb.DuckDBPyConnection) -> duckdb.duckdb.DuckDBPyConnection\n",
      " |  \n",
      " |  __exit__(...)\n",
      " |      __exit__(self: duckdb.duckdb.DuckDBPyConnection, exc_type: object, exc: object, traceback: object) -> None\n",
      " |  \n",
      " |  __init__(self, /, *args, **kwargs)\n",
      " |      Initialize self.  See help(type(self)) for accurate signature.\n",
      " |  \n",
      " |  append(...)\n",
      " |      append(self: duckdb.duckdb.DuckDBPyConnection, table_name: str, df: pandas.DataFrame, *, by_name: bool = False) -> duckdb.duckdb.DuckDBPyConnection\n",
      " |      \n",
      " |      Append the passed DataFrame to the named table\n",
      " |  \n",
      " |  array_type(...)\n",
      " |      array_type(self: duckdb.duckdb.DuckDBPyConnection, type: duckdb.duckdb.typing.DuckDBPyType, size: int) -> duckdb.duckdb.typing.DuckDBPyType\n",
      " |      \n",
      " |      Create an array type object of 'type'\n",
      " |  \n",
      " |  arrow(...)\n",
      " |      arrow(self: duckdb.duckdb.DuckDBPyConnection, rows_per_batch: int = 1000000) -> pyarrow.lib.Table\n",
      " |      \n",
      " |      Fetch a result as Arrow table following execute()\n",
      " |  \n",
      " |  begin(...)\n",
      " |      begin(self: duckdb.duckdb.DuckDBPyConnection) -> duckdb.duckdb.DuckDBPyConnection\n",
      " |      \n",
      " |      Start a new transaction\n",
      " |  \n",
      " |  close(...)\n",
      " |      close(self: duckdb.duckdb.DuckDBPyConnection) -> None\n",
      " |      \n",
      " |      Close the connection\n",
      " |  \n",
      " |  commit(...)\n",
      " |      commit(self: duckdb.duckdb.DuckDBPyConnection) -> duckdb.duckdb.DuckDBPyConnection\n",
      " |      \n",
      " |      Commit changes performed within a transaction\n",
      " |  \n",
      " |  create_function(...)\n",
      " |      create_function(self: duckdb.duckdb.DuckDBPyConnection, name: str, function: Callable, parameters: object = None, return_type: duckdb.duckdb.typing.DuckDBPyType = None, *, type: duckdb.duckdb.functional.PythonUDFType = <PythonUDFType.NATIVE: 0>, null_handling: duckdb.duckdb.functional.FunctionNullHandling = 0, exception_handling: duckdb.duckdb.PythonExceptionHandling = 0, side_effects: bool = False) -> duckdb.duckdb.DuckDBPyConnection\n",
      " |      \n",
      " |      Create a DuckDB function out of the passing in Python function so it can be used in queries\n",
      " |  \n",
      " |  cursor(...)\n",
      " |      cursor(self: duckdb.duckdb.DuckDBPyConnection) -> duckdb.duckdb.DuckDBPyConnection\n",
      " |      \n",
      " |      Create a duplicate of the current connection\n",
      " |  \n",
      " |  decimal_type(...)\n",
      " |      decimal_type(self: duckdb.duckdb.DuckDBPyConnection, width: int, scale: int) -> duckdb.duckdb.typing.DuckDBPyType\n",
      " |      \n",
      " |      Create a decimal type with 'width' and 'scale'\n",
      " |  \n",
      " |  df(...)\n",
      " |      df(self: duckdb.duckdb.DuckDBPyConnection, *, date_as_object: bool = False) -> pandas.DataFrame\n",
      " |      \n",
      " |      Fetch a result as DataFrame following execute()\n",
      " |  \n",
      " |  dtype(...)\n",
      " |      dtype(self: duckdb.duckdb.DuckDBPyConnection, type_str: str) -> duckdb.duckdb.typing.DuckDBPyType\n",
      " |      \n",
      " |      Create a type object by parsing the 'type_str' string\n",
      " |  \n",
      " |  duplicate(...)\n",
      " |      duplicate(self: duckdb.duckdb.DuckDBPyConnection) -> duckdb.duckdb.DuckDBPyConnection\n",
      " |      \n",
      " |      Create a duplicate of the current connection\n",
      " |  \n",
      " |  enum_type(...)\n",
      " |      enum_type(self: duckdb.duckdb.DuckDBPyConnection, name: str, type: duckdb.duckdb.typing.DuckDBPyType, values: list) -> duckdb.duckdb.typing.DuckDBPyType\n",
      " |      \n",
      " |      Create an enum type of underlying 'type', consisting of the list of 'values'\n",
      " |  \n",
      " |  execute(...)\n",
      " |      execute(self: duckdb.duckdb.DuckDBPyConnection, query: object, parameters: object = None, multiple_parameter_sets: bool = False) -> duckdb.duckdb.DuckDBPyConnection\n",
      " |      \n",
      " |      Execute the given SQL query, optionally using prepared statements with parameters set\n",
      " |  \n",
      " |  executemany(...)\n",
      " |      executemany(self: duckdb.duckdb.DuckDBPyConnection, query: object, parameters: object = None) -> duckdb.duckdb.DuckDBPyConnection\n",
      " |      \n",
      " |      Execute the given prepared statement multiple times using the list of parameter sets in parameters\n",
      " |  \n",
      " |  extract_statements(...)\n",
      " |      extract_statements(self: duckdb.duckdb.DuckDBPyConnection, query: str) -> list\n",
      " |      \n",
      " |      Parse the query string and extract the Statement object(s) produced\n",
      " |  \n",
      " |  fetch_arrow_table(...)\n",
      " |      fetch_arrow_table(self: duckdb.duckdb.DuckDBPyConnection, rows_per_batch: int = 1000000) -> pyarrow.lib.Table\n",
      " |      \n",
      " |      Fetch a result as Arrow table following execute()\n",
      " |  \n",
      " |  fetch_df(...)\n",
      " |      fetch_df(self: duckdb.duckdb.DuckDBPyConnection, *, date_as_object: bool = False) -> pandas.DataFrame\n",
      " |      \n",
      " |      Fetch a result as DataFrame following execute()\n",
      " |  \n",
      " |  fetch_df_chunk(...)\n",
      " |      fetch_df_chunk(self: duckdb.duckdb.DuckDBPyConnection, vectors_per_chunk: int = 1, *, date_as_object: bool = False) -> pandas.DataFrame\n",
      " |      \n",
      " |      Fetch a chunk of the result as Data.Frame following execute()\n",
      " |  \n",
      " |  fetch_record_batch(...)\n",
      " |      fetch_record_batch(self: duckdb.duckdb.DuckDBPyConnection, rows_per_batch: int = 1000000) -> pyarrow.lib.RecordBatchReader\n",
      " |      \n",
      " |      Fetch an Arrow RecordBatchReader following execute()\n",
      " |  \n",
      " |  fetchall(...)\n",
      " |      fetchall(self: duckdb.duckdb.DuckDBPyConnection) -> list\n",
      " |      \n",
      " |      Fetch all rows from a result following execute\n",
      " |  \n",
      " |  fetchdf(...)\n",
      " |      fetchdf(self: duckdb.duckdb.DuckDBPyConnection, *, date_as_object: bool = False) -> pandas.DataFrame\n",
      " |      \n",
      " |      Fetch a result as DataFrame following execute()\n",
      " |  \n",
      " |  fetchmany(...)\n",
      " |      fetchmany(self: duckdb.duckdb.DuckDBPyConnection, size: int = 1) -> list\n",
      " |      \n",
      " |      Fetch the next set of rows from a result following execute\n",
      " |  \n",
      " |  fetchnumpy(...)\n",
      " |      fetchnumpy(self: duckdb.duckdb.DuckDBPyConnection) -> dict\n",
      " |      \n",
      " |      Fetch a result as list of NumPy arrays following execute\n",
      " |  \n",
      " |  fetchone(...)\n",
      " |      fetchone(self: duckdb.duckdb.DuckDBPyConnection) -> typing.Optional[tuple]\n",
      " |      \n",
      " |      Fetch a single row from a result following execute\n",
      " |  \n",
      " |  filesystem_is_registered(...)\n",
      " |      filesystem_is_registered(self: duckdb.duckdb.DuckDBPyConnection, name: str) -> bool\n",
      " |      \n",
      " |      Check if a filesystem with the provided name is currently registered\n",
      " |  \n",
      " |  from_arrow(...)\n",
      " |      from_arrow(self: duckdb.duckdb.DuckDBPyConnection, arrow_object: object) -> duckdb.duckdb.DuckDBPyRelation\n",
      " |      \n",
      " |      Create a relation object from an Arrow object\n",
      " |  \n",
      " |  from_csv_auto(...)\n",
      " |      from_csv_auto(self: duckdb.duckdb.DuckDBPyConnection, name: object, *, header: object = None, compression: object = None, sep: object = None, delimiter: object = None, dtype: object = None, na_values: object = None, skiprows: object = None, quotechar: object = None, escapechar: object = None, encoding: object = None, parallel: object = None, date_format: object = None, timestamp_format: object = None, sample_size: object = None, all_varchar: object = None, normalize_names: object = None, filename: object = None, null_padding: object = None, names: object = None) -> duckdb.duckdb.DuckDBPyRelation\n",
      " |      \n",
      " |      Create a relation object from the CSV file in 'name'\n",
      " |  \n",
      " |  from_df(...)\n",
      " |      from_df(self: duckdb.duckdb.DuckDBPyConnection, df: pandas.DataFrame = None) -> duckdb.duckdb.DuckDBPyRelation\n",
      " |      \n",
      " |      Create a relation object from the Data.Frame in df\n",
      " |  \n",
      " |  from_parquet(...)\n",
      " |      from_parquet(*args, **kwargs)\n",
      " |      Overloaded function.\n",
      " |      \n",
      " |      1. from_parquet(self: duckdb.duckdb.DuckDBPyConnection, file_glob: str, binary_as_string: bool = False, *, file_row_number: bool = False, filename: bool = False, hive_partitioning: bool = False, union_by_name: bool = False, compression: object = None) -> duckdb.duckdb.DuckDBPyRelation\n",
      " |      \n",
      " |      Create a relation object from the Parquet files in file_glob\n",
      " |      \n",
      " |      2. from_parquet(self: duckdb.duckdb.DuckDBPyConnection, file_globs: list[str], binary_as_string: bool = False, *, file_row_number: bool = False, filename: bool = False, hive_partitioning: bool = False, union_by_name: bool = False, compression: object = None) -> duckdb.duckdb.DuckDBPyRelation\n",
      " |      \n",
      " |      Create a relation object from the Parquet files in file_globs\n",
      " |  \n",
      " |  from_query(...)\n",
      " |      from_query(self: duckdb.duckdb.DuckDBPyConnection, query: object, *, alias: str = '', params: object = None) -> duckdb.duckdb.DuckDBPyRelation\n",
      " |      \n",
      " |      Run a SQL query. If it is a SELECT statement, create a relation object from the given SQL query, otherwise run the query as-is.\n",
      " |  \n",
      " |  from_substrait(...)\n",
      " |      from_substrait(self: duckdb.duckdb.DuckDBPyConnection, proto: bytes) -> duckdb.duckdb.DuckDBPyRelation\n",
      " |      \n",
      " |      Create a query object from protobuf plan\n",
      " |  \n",
      " |  from_substrait_json(...)\n",
      " |      from_substrait_json(self: duckdb.duckdb.DuckDBPyConnection, json: str) -> duckdb.duckdb.DuckDBPyRelation\n",
      " |      \n",
      " |      Create a query object from a JSON protobuf plan\n",
      " |  \n",
      " |  get_substrait(...)\n",
      " |      get_substrait(self: duckdb.duckdb.DuckDBPyConnection, query: str, *, enable_optimizer: bool = True) -> duckdb.duckdb.DuckDBPyRelation\n",
      " |      \n",
      " |      Serialize a query to protobuf\n",
      " |  \n",
      " |  get_substrait_json(...)\n",
      " |      get_substrait_json(self: duckdb.duckdb.DuckDBPyConnection, query: str, *, enable_optimizer: bool = True) -> duckdb.duckdb.DuckDBPyRelation\n",
      " |      \n",
      " |      Serialize a query to protobuf on the JSON format\n",
      " |  \n",
      " |  get_table_names(...)\n",
      " |      get_table_names(self: duckdb.duckdb.DuckDBPyConnection, query: str) -> set[str]\n",
      " |      \n",
      " |      Extract the required table names from a query\n",
      " |  \n",
      " |  install_extension(...)\n",
      " |      install_extension(self: duckdb.duckdb.DuckDBPyConnection, extension: str, *, force_install: bool = False) -> None\n",
      " |      \n",
      " |      Install an extension by name\n",
      " |  \n",
      " |  interrupt(...)\n",
      " |      interrupt(self: duckdb.duckdb.DuckDBPyConnection) -> None\n",
      " |      \n",
      " |      Interrupt pending operations\n",
      " |  \n",
      " |  list_filesystems(...)\n",
      " |      list_filesystems(self: duckdb.duckdb.DuckDBPyConnection) -> list\n",
      " |      \n",
      " |      List registered filesystems, including builtin ones\n",
      " |  \n",
      " |  list_type(...)\n",
      " |      list_type(self: duckdb.duckdb.DuckDBPyConnection, type: duckdb.duckdb.typing.DuckDBPyType) -> duckdb.duckdb.typing.DuckDBPyType\n",
      " |      \n",
      " |      Create a list type object of 'type'\n",
      " |  \n",
      " |  load_extension(...)\n",
      " |      load_extension(self: duckdb.duckdb.DuckDBPyConnection, extension: str) -> None\n",
      " |      \n",
      " |      Load an installed extension\n",
      " |  \n",
      " |  map_type(...)\n",
      " |      map_type(self: duckdb.duckdb.DuckDBPyConnection, key: duckdb.duckdb.typing.DuckDBPyType, value: duckdb.duckdb.typing.DuckDBPyType) -> duckdb.duckdb.typing.DuckDBPyType\n",
      " |      \n",
      " |      Create a map type object from 'key_type' and 'value_type'\n",
      " |  \n",
      " |  pl(...)\n",
      " |      pl(self: duckdb.duckdb.DuckDBPyConnection, rows_per_batch: int = 1000000) -> duckdb::PolarsDataFrame\n",
      " |      \n",
      " |      Fetch a result as Polars DataFrame following execute()\n",
      " |  \n",
      " |  query(...)\n",
      " |      query(self: duckdb.duckdb.DuckDBPyConnection, query: object, *, alias: str = '', params: object = None) -> duckdb.duckdb.DuckDBPyRelation\n",
      " |      \n",
      " |      Run a SQL query. If it is a SELECT statement, create a relation object from the given SQL query, otherwise run the query as-is.\n",
      " |  \n",
      " |  read_csv(...)\n",
      " |      read_csv(self: duckdb.duckdb.DuckDBPyConnection, name: object, *, header: object = None, compression: object = None, sep: object = None, delimiter: object = None, dtype: object = None, na_values: object = None, skiprows: object = None, quotechar: object = None, escapechar: object = None, encoding: object = None, parallel: object = None, date_format: object = None, timestamp_format: object = None, sample_size: object = None, all_varchar: object = None, normalize_names: object = None, filename: object = None, null_padding: object = None, names: object = None) -> duckdb.duckdb.DuckDBPyRelation\n",
      " |      \n",
      " |      Create a relation object from the CSV file in 'name'\n",
      " |  \n",
      " |  read_json(...)\n",
      " |      read_json(self: duckdb.duckdb.DuckDBPyConnection, name: str, *, columns: typing.Optional[object] = None, sample_size: typing.Optional[object] = None, maximum_depth: typing.Optional[object] = None, records: typing.Optional[str] = None, format: typing.Optional[str] = None) -> duckdb.duckdb.DuckDBPyRelation\n",
      " |      \n",
      " |      Create a relation object from the JSON file in 'name'\n",
      " |  \n",
      " |  read_parquet(...)\n",
      " |      read_parquet(*args, **kwargs)\n",
      " |      Overloaded function.\n",
      " |      \n",
      " |      1. read_parquet(self: duckdb.duckdb.DuckDBPyConnection, file_glob: str, binary_as_string: bool = False, *, file_row_number: bool = False, filename: bool = False, hive_partitioning: bool = False, union_by_name: bool = False, compression: object = None) -> duckdb.duckdb.DuckDBPyRelation\n",
      " |      \n",
      " |      Create a relation object from the Parquet files in file_glob\n",
      " |      \n",
      " |      2. read_parquet(self: duckdb.duckdb.DuckDBPyConnection, file_globs: list[str], binary_as_string: bool = False, *, file_row_number: bool = False, filename: bool = False, hive_partitioning: bool = False, union_by_name: bool = False, compression: object = None) -> duckdb.duckdb.DuckDBPyRelation\n",
      " |      \n",
      " |      Create a relation object from the Parquet files in file_globs\n",
      " |  \n",
      " |  register(...)\n",
      " |      register(self: duckdb.duckdb.DuckDBPyConnection, view_name: str, python_object: object) -> duckdb.duckdb.DuckDBPyConnection\n",
      " |      \n",
      " |      Register the passed Python Object value for querying with a view\n",
      " |  \n",
      " |  register_filesystem(...)\n",
      " |      register_filesystem(self: duckdb.duckdb.DuckDBPyConnection, filesystem: fsspec.AbstractFileSystem) -> None\n",
      " |      \n",
      " |      Register a fsspec compliant filesystem\n",
      " |  \n",
      " |  remove_function(...)\n",
      " |      remove_function(self: duckdb.duckdb.DuckDBPyConnection, name: str) -> duckdb.duckdb.DuckDBPyConnection\n",
      " |      \n",
      " |      Remove a previously created function\n",
      " |  \n",
      " |  rollback(...)\n",
      " |      rollback(self: duckdb.duckdb.DuckDBPyConnection) -> duckdb.duckdb.DuckDBPyConnection\n",
      " |      \n",
      " |      Roll back changes performed within a transaction\n",
      " |  \n",
      " |  row_type(...)\n",
      " |      row_type(self: duckdb.duckdb.DuckDBPyConnection, fields: object) -> duckdb.duckdb.typing.DuckDBPyType\n",
      " |      \n",
      " |      Create a struct type object from 'fields'\n",
      " |  \n",
      " |  sql(...)\n",
      " |      sql(self: duckdb.duckdb.DuckDBPyConnection, query: object, *, alias: str = '', params: object = None) -> duckdb.duckdb.DuckDBPyRelation\n",
      " |      \n",
      " |      Run a SQL query. If it is a SELECT statement, create a relation object from the given SQL query, otherwise run the query as-is.\n",
      " |  \n",
      " |  sqltype(...)\n",
      " |      sqltype(self: duckdb.duckdb.DuckDBPyConnection, type_str: str) -> duckdb.duckdb.typing.DuckDBPyType\n",
      " |      \n",
      " |      Create a type object by parsing the 'type_str' string\n",
      " |  \n",
      " |  string_type(...)\n",
      " |      string_type(self: duckdb.duckdb.DuckDBPyConnection, collation: str = '') -> duckdb.duckdb.typing.DuckDBPyType\n",
      " |      \n",
      " |      Create a string type with an optional collation\n",
      " |  \n",
      " |  struct_type(...)\n",
      " |      struct_type(self: duckdb.duckdb.DuckDBPyConnection, fields: object) -> duckdb.duckdb.typing.DuckDBPyType\n",
      " |      \n",
      " |      Create a struct type object from 'fields'\n",
      " |  \n",
      " |  table(...)\n",
      " |      table(self: duckdb.duckdb.DuckDBPyConnection, table_name: str) -> duckdb.duckdb.DuckDBPyRelation\n",
      " |      \n",
      " |      Create a relation object for the name'd table\n",
      " |  \n",
      " |  table_function(...)\n",
      " |      table_function(self: duckdb.duckdb.DuckDBPyConnection, name: str, parameters: object = None) -> duckdb.duckdb.DuckDBPyRelation\n",
      " |      \n",
      " |      Create a relation object from the name'd table function with given parameters\n",
      " |  \n",
      " |  tf(...)\n",
      " |      tf(self: duckdb.duckdb.DuckDBPyConnection) -> dict\n",
      " |      \n",
      " |      Fetch a result as dict of TensorFlow Tensors following execute()\n",
      " |  \n",
      " |  torch(...)\n",
      " |      torch(self: duckdb.duckdb.DuckDBPyConnection) -> dict\n",
      " |      \n",
      " |      Fetch a result as dict of PyTorch Tensors following execute()\n",
      " |  \n",
      " |  type(...)\n",
      " |      type(self: duckdb.duckdb.DuckDBPyConnection, type_str: str) -> duckdb.duckdb.typing.DuckDBPyType\n",
      " |      \n",
      " |      Create a type object by parsing the 'type_str' string\n",
      " |  \n",
      " |  union_type(...)\n",
      " |      union_type(self: duckdb.duckdb.DuckDBPyConnection, members: object) -> duckdb.duckdb.typing.DuckDBPyType\n",
      " |      \n",
      " |      Create a union type object from 'members'\n",
      " |  \n",
      " |  unregister(...)\n",
      " |      unregister(self: duckdb.duckdb.DuckDBPyConnection, view_name: str) -> duckdb.duckdb.DuckDBPyConnection\n",
      " |      \n",
      " |      Unregister the view name\n",
      " |  \n",
      " |  unregister_filesystem(...)\n",
      " |      unregister_filesystem(self: duckdb.duckdb.DuckDBPyConnection, name: str) -> None\n",
      " |      \n",
      " |      Unregister a filesystem\n",
      " |  \n",
      " |  values(...)\n",
      " |      values(self: duckdb.duckdb.DuckDBPyConnection, values: object) -> duckdb.duckdb.DuckDBPyRelation\n",
      " |      \n",
      " |      Create a relation object from the passed values\n",
      " |  \n",
      " |  view(...)\n",
      " |      view(self: duckdb.duckdb.DuckDBPyConnection, view_name: str) -> duckdb.duckdb.DuckDBPyRelation\n",
      " |      \n",
      " |      Create a relation object for the name'd view\n",
      " |  \n",
      " |  ----------------------------------------------------------------------\n",
      " |  Readonly properties defined here:\n",
      " |  \n",
      " |  description\n",
      " |      Get result set attributes, mainly column names\n",
      " |  \n",
      " |  rowcount\n",
      " |      Get result set row count\n",
      " |  \n",
      " |  ----------------------------------------------------------------------\n",
      " |  Data and other attributes defined here:\n",
      " |  \n",
      " |  __pybind11_module_local_v4_clang_libcpp_cxxabi1002__ = <capsule object...\n",
      " |  \n",
      " |  ----------------------------------------------------------------------\n",
      " |  Static methods inherited from pybind11_builtins.pybind11_object:\n",
      " |  \n",
      " |  __new__(*args, **kwargs) from pybind11_builtins.pybind11_type\n",
      " |      Create and return a new object.  See help(type) for accurate signature.\n",
      "\n"
     ]
    }
   ],
   "source": [
    "help(cur)"
   ]
  },
  {
   "cell_type": "markdown",
   "id": "4bb7e7da",
   "metadata": {},
   "source": [
    "3. Using an iterator - but DuckDB doesn't support iterators :("
   ]
  },
  {
   "cell_type": "code",
   "execution_count": 25,
   "id": "b17120a3",
   "metadata": {},
   "outputs": [
    {
     "ename": "TypeError",
     "evalue": "'duckdb.duckdb.DuckDBPyConnection' object is not iterable",
     "output_type": "error",
     "traceback": [
      "\u001b[0;31m---------------------------------------------------------------------------\u001b[0m",
      "\u001b[0;31mTypeError\u001b[0m                                 Traceback (most recent call last)",
      "Cell \u001b[0;32mIn[25], line 2\u001b[0m\n\u001b[1;32m      1\u001b[0m cur\u001b[38;5;241m.\u001b[39mexecute(\u001b[38;5;124m\"\u001b[39m\u001b[38;5;124mSELECT Nest_ID FROM Bird_nests LIMIT 10\u001b[39m\u001b[38;5;124m\"\u001b[39m)\n\u001b[0;32m----> 2\u001b[0m \u001b[38;5;28;43;01mfor\u001b[39;49;00m\u001b[43m \u001b[49m\u001b[43mrow\u001b[49m\u001b[43m \u001b[49m\u001b[38;5;129;43;01min\u001b[39;49;00m\u001b[43m \u001b[49m\u001b[43mcur\u001b[49m\u001b[43m:\u001b[49m\n\u001b[1;32m      3\u001b[0m \u001b[43m    \u001b[49m\u001b[38;5;28;43mprint\u001b[39;49m\u001b[43m(\u001b[49m\u001b[38;5;124;43mf\u001b[39;49m\u001b[38;5;124;43m\"\u001b[39;49m\u001b[38;5;124;43mgot \u001b[39;49m\u001b[38;5;132;43;01m{\u001b[39;49;00m\u001b[43mrow\u001b[49m\u001b[43m[\u001b[49m\u001b[38;5;241;43m0\u001b[39;49m\u001b[43m]\u001b[49m\u001b[38;5;132;43;01m}\u001b[39;49;00m\u001b[38;5;124;43m\"\u001b[39;49m\u001b[43m)\u001b[49m\n",
      "\u001b[0;31mTypeError\u001b[0m: 'duckdb.duckdb.DuckDBPyConnection' object is not iterable"
     ]
    }
   ],
   "source": [
    "cur.execute(\"SELECT Nest_ID FROM Bird_nests LIMIT 10\")\n",
    "for row in cur:\n",
    "    print(f\"got {row[0]}\")"
   ]
  },
  {
   "cell_type": "markdown",
   "id": "c4ffe2f5",
   "metadata": {},
   "source": [
    "for some reason, duckdb doesn't... every other db usually does.\n",
    "\n",
    "A workaround:"
   ]
  },
  {
   "cell_type": "markdown",
   "id": "b0634db1",
   "metadata": {},
   "source": [
    "Can use cursor as iterator.  Technique for large returns, more efficient than `fetchall()`."
   ]
  },
  {
   "cell_type": "code",
   "execution_count": 26,
   "id": "b51dcad5",
   "metadata": {},
   "outputs": [
    {
     "name": "stdout",
     "output_type": "stream",
     "text": [
      "got nest ID 14HPE1\n",
      "got nest ID 11eaba\n",
      "got nest ID 11eabaagc01\n",
      "got nest ID 11eabaagv01\n",
      "got nest ID 11eababbc02\n",
      "got nest ID 11eababsv01\n",
      "got nest ID 11eabaduh01\n",
      "got nest ID 11eabaduv01\n",
      "got nest ID 11eabarpc01\n",
      "got nest ID 11eabarpc02\n"
     ]
    }
   ],
   "source": [
    "cur.execute(\"SELECT Nest_ID FROM Bird_nests LIMIT 10\")\n",
    "while True:\n",
    "    row = cur.fetchone()\n",
    "    if row == None:\n",
    "        break\n",
    "    # do something with row\n",
    "    print(f\"got nest ID {row[0]}\")"
   ]
  },
  {
   "cell_type": "markdown",
   "id": "d1b95d44",
   "metadata": {},
   "source": [
    "especially useful for bigger data.\n",
    "\n",
    "if not using duckdb, you can use the first for loop"
   ]
  },
  {
   "cell_type": "markdown",
   "id": "1b724e25",
   "metadata": {},
   "source": [
    "Can do things other than SELECT!"
   ]
  },
  {
   "cell_type": "markdown",
   "id": "331a582b",
   "metadata": {},
   "source": [
    "use \"\"\", otherwise u get unterminated string literal SyntaxError"
   ]
  },
  {
   "cell_type": "code",
   "execution_count": 27,
   "id": "e82a7493",
   "metadata": {},
   "outputs": [
    {
     "data": {
      "text/plain": [
       "<duckdb.duckdb.DuckDBPyConnection at 0x11146b230>"
      ]
     },
     "execution_count": 27,
     "metadata": {},
     "output_type": "execute_result"
    }
   ],
   "source": [
    "# \"\"\" is way of quoting a multilinestring\n",
    "cur.execute(\"\"\" \n",
    "    CREATE TEMP TABLE temp_table AS\n",
    "    SELECT * FROM Bird_nests LIMIT 10\n",
    "    \"\"\" )"
   ]
  },
  {
   "cell_type": "code",
   "execution_count": 28,
   "id": "9db5f642",
   "metadata": {},
   "outputs": [
    {
     "data": {
      "text/plain": [
       "<duckdb.duckdb.DuckDBPyConnection at 0x11146b230>"
      ]
     },
     "execution_count": 28,
     "metadata": {},
     "output_type": "execute_result"
    }
   ],
   "source": [
    "cur.execute(\"SELECT * from temp_table\")"
   ]
  },
  {
   "cell_type": "code",
   "execution_count": 29,
   "id": "80986919",
   "metadata": {},
   "outputs": [
    {
     "data": {
      "text/plain": [
       "[('b14.6',\n",
       "  2014,\n",
       "  'chur',\n",
       "  '14HPE1',\n",
       "  'sepl',\n",
       "  'vloverti',\n",
       "  datetime.date(2014, 6, 14),\n",
       "  None,\n",
       "  3,\n",
       "  None,\n",
       "  None),\n",
       " ('b11.7',\n",
       "  2011,\n",
       "  'eaba',\n",
       "  '11eaba',\n",
       "  'wrsa',\n",
       "  'bhill',\n",
       "  datetime.date(2011, 7, 10),\n",
       "  'searcher',\n",
       "  4,\n",
       "  None,\n",
       "  None),\n",
       " ('b11.6',\n",
       "  2011,\n",
       "  'eaba',\n",
       "  '11eabaagc01',\n",
       "  'amgp',\n",
       "  'dkessler',\n",
       "  datetime.date(2011, 6, 24),\n",
       "  'searcher',\n",
       "  4,\n",
       "  6.0,\n",
       "  'float'),\n",
       " ('b11.6',\n",
       "  2011,\n",
       "  'eaba',\n",
       "  '11eabaagv01',\n",
       "  'amgp',\n",
       "  'dkessler',\n",
       "  datetime.date(2011, 6, 25),\n",
       "  'searcher',\n",
       "  3,\n",
       "  3.0,\n",
       "  'float'),\n",
       " ('b11.6',\n",
       "  2011,\n",
       "  'eaba',\n",
       "  '11eababbc02',\n",
       "  'bbpl',\n",
       "  'dkessler',\n",
       "  datetime.date(2011, 6, 24),\n",
       "  'searcher',\n",
       "  4,\n",
       "  4.0,\n",
       "  'float'),\n",
       " ('b11.7',\n",
       "  2011,\n",
       "  'eaba',\n",
       "  '11eababsv01',\n",
       "  'wrsa',\n",
       "  'bhill',\n",
       "  datetime.date(2011, 7, 7),\n",
       "  'searcher',\n",
       "  4,\n",
       "  2.0,\n",
       "  'float'),\n",
       " ('b11.6',\n",
       "  2011,\n",
       "  'eaba',\n",
       "  '11eabaduh01',\n",
       "  'dunl',\n",
       "  'dkessler',\n",
       "  datetime.date(2011, 6, 28),\n",
       "  'searcher',\n",
       "  3,\n",
       "  2.0,\n",
       "  'float'),\n",
       " ('b11.6',\n",
       "  2011,\n",
       "  'eaba',\n",
       "  '11eabaduv01',\n",
       "  'dunl',\n",
       "  'dkessler',\n",
       "  datetime.date(2011, 6, 29),\n",
       "  'searcher',\n",
       "  4,\n",
       "  5.0,\n",
       "  'float'),\n",
       " ('b11.7',\n",
       "  2011,\n",
       "  'eaba',\n",
       "  '11eabarpc01',\n",
       "  'reph',\n",
       "  'bhill',\n",
       "  datetime.date(2011, 7, 8),\n",
       "  'searcher',\n",
       "  4,\n",
       "  4.0,\n",
       "  'float'),\n",
       " ('b11.7',\n",
       "  2011,\n",
       "  'eaba',\n",
       "  '11eabarpc02',\n",
       "  'reph',\n",
       "  'bhill',\n",
       "  datetime.date(2011, 7, 8),\n",
       "  'searcher',\n",
       "  3,\n",
       "  4.0,\n",
       "  'float')]"
      ]
     },
     "execution_count": 29,
     "metadata": {},
     "output_type": "execute_result"
    }
   ],
   "source": [
    "cur.fetchall()"
   ]
  },
  {
   "cell_type": "markdown",
   "id": "161fd5d8",
   "metadata": {},
   "source": [
    "A note on fragility\n",
    "\n",
    "For example:\n",
    "one way to do an insert statement: order of values has to align with order of the columns\n",
    "```{SQL}\n",
    "INSERT INTO Site VALUES (\"abcd\", \"Foo\", 35.7, -119.5, \"?\") \n",
    "```\n",
    "not necessarily obvious which value is supposed to go with which column or if code was correct\n",
    "\n",
    "a less fragile way of expressing the same thing:\n",
    "be explicit\n",
    "```{SQL}\n",
    "INSERT INTO Site (Code, Site_name, Latitude, Longitude, Something_else)\n",
    "    VALUES (\"abcd\", \"Foo\", 35.7, -119.5, \"?\")\n",
    "```\n",
    "\n",
    "In the same vein: SELECT * is fragile"
   ]
  },
  {
   "cell_type": "code",
   "execution_count": 30,
   "id": "3bdb426c",
   "metadata": {},
   "outputs": [
    {
     "data": {
      "text/plain": [
       "[('barr',\n",
       "  'Barrow',\n",
       "  'Alaska, USA',\n",
       "  71.30000305175781,\n",
       "  -156.60000610351562,\n",
       "  220.39999389648438),\n",
       " ('burn',\n",
       "  'Burntpoint Creek',\n",
       "  'Ontario, Canada',\n",
       "  55.20000076293945,\n",
       "  -84.30000305175781,\n",
       "  63.0),\n",
       " ('bylo',\n",
       "  'Bylot Island',\n",
       "  'Nunavut, Canada',\n",
       "  73.19999694824219,\n",
       "  -80.0,\n",
       "  723.5999755859375)]"
      ]
     },
     "execution_count": 30,
     "metadata": {},
     "output_type": "execute_result"
    }
   ],
   "source": [
    "cur.execute(\"SELECT * FROM Site LIMIT 3\")\n",
    "cur.fetchall()"
   ]
  },
  {
   "cell_type": "markdown",
   "id": "59add2a4",
   "metadata": {},
   "source": [
    "just tuples of values, nothing that tells us which value goes to which column, what those columns are"
   ]
  },
  {
   "cell_type": "markdown",
   "id": "1e3f825e",
   "metadata": {},
   "source": [
    "a better, more robust way of coding the same thing:"
   ]
  },
  {
   "cell_type": "code",
   "execution_count": 31,
   "id": "4d2c68c5",
   "metadata": {},
   "outputs": [
    {
     "data": {
      "text/plain": [
       "[('Barrow', 'barr', 71.30000305175781, -156.60000610351562),\n",
       " ('Burntpoint Creek', 'burn', 55.20000076293945, -84.30000305175781),\n",
       " ('Bylot Island', 'bylo', 73.19999694824219, -80.0)]"
      ]
     },
     "execution_count": 31,
     "metadata": {},
     "output_type": "execute_result"
    }
   ],
   "source": [
    "cur.execute(\"SELECT Site_name, Code, Latitude, Longitude FROM Site LIMIT 3\")\n",
    "cur.fetchall()"
   ]
  },
  {
   "cell_type": "markdown",
   "id": "b6d1976d",
   "metadata": {},
   "source": [
    "when you're programming, don't use SELECT * -- try to be explicit.\n",
    "\n"
   ]
  },
  {
   "cell_type": "markdown",
   "id": "b902a5bf",
   "metadata": {},
   "source": [
    "How many bird nests do we have for each species? (could do in 1 query, but we're going to use a more programmatic approach as an example)\n",
    "\n",
    "Approach: first get all species. Then execute a count query for each species.\n",
    "\n",
    "execute query once for each species ('%')"
   ]
  },
  {
   "cell_type": "code",
   "execution_count": 32,
   "id": "c65ae52b",
   "metadata": {},
   "outputs": [
    {
     "name": "stdout",
     "output_type": "stream",
     "text": [
      "\n",
      "    SELECT COUNT(*) FROM Bird_nests\n",
      "    WHERE Species = 'agsq'\n",
      "\n",
      "\n",
      "    SELECT COUNT(*) FROM Bird_nests\n",
      "    WHERE Species = 'amcr'\n",
      "\n",
      "\n",
      "    SELECT COUNT(*) FROM Bird_nests\n",
      "    WHERE Species = 'amgp'\n",
      "\n"
     ]
    }
   ],
   "source": [
    "query = \"\"\"\n",
    "    SELECT COUNT(*) FROM Bird_nests\n",
    "    WHERE Species = '%s'\n",
    "\"\"\"\n",
    "\n",
    "cur.execute(\"SELECT Code FROM Species LIMIT 3\")\n",
    "\n",
    "for row in cur.fetchall(): # DuckDB workaround\n",
    "    code = row[0]\n",
    "    prepared_query = query % code # interpolate code inside the query\n",
    "    print(prepared_query)"
   ]
  },
  {
   "cell_type": "markdown",
   "id": "07cde219",
   "metadata": {},
   "source": [
    "A digression: string interpolation in Python"
   ]
  },
  {
   "cell_type": "code",
   "execution_count": 39,
   "id": "89ac1f14",
   "metadata": {},
   "outputs": [
    {
     "name": "stdout",
     "output_type": "stream",
     "text": [
      "My name is Greg\n",
      "My name is Greg and the other teacher's name is Julien\n",
      "My name is Greg\n",
      "My name is Greg\n"
     ]
    }
   ],
   "source": [
    "# The % method\n",
    "s = \"My name is %s\"\n",
    "print(s % \"Greg\")\n",
    "s = \"My name is %s and the other teacher's name is %s\" # can use multiple\n",
    "print(s % (\"Greg\", \"Julien\"))\n",
    "\n",
    "# the new f-string method\n",
    "name = \"Greg\"\n",
    "print(f\"My name is {name}\")\n",
    "\n",
    "# Third way\n",
    "print(\"My name is {}\".format(\"Greg\"))"
   ]
  },
  {
   "cell_type": "markdown",
   "id": "bc1e9da5",
   "metadata": {},
   "source": [
    "%s is a placeholder code\n",
    "\n",
    "% operator "
   ]
  },
  {
   "cell_type": "code",
   "execution_count": 35,
   "id": "7027588d",
   "metadata": {},
   "outputs": [
    {
     "name": "stdout",
     "output_type": "stream",
     "text": [
      "My name is Greg and the other teacher's name is Julien\n"
     ]
    }
   ],
   "source": []
  },
  {
   "cell_type": "code",
   "execution_count": 44,
   "id": "80902ab5",
   "metadata": {},
   "outputs": [
    {
     "name": "stdout",
     "output_type": "stream",
     "text": [
      "Species agsq has 0 nests\n",
      "Species amcr has 0 nests\n",
      "Species amgp has 29 nests\n"
     ]
    }
   ],
   "source": [
    "query = \"\"\"\n",
    "    SELECT COUNT(*) FROM Bird_nests\n",
    "    WHERE Species = '%s'\n",
    "\"\"\"\n",
    "\n",
    "cur.execute(\"SELECT Code FROM Species LIMIT 3\")\n",
    "\n",
    "for row in cur.fetchall(): # DuckDB workaround\n",
    "    code = row[0]\n",
    "    prepared_query = query % code # interpolate code inside the query\n",
    "    #print(prepared_query)\n",
    "    cur2 = conn.cursor() # case-sensitive\n",
    "    cur2.execute(prepared_query)\n",
    "    print(f\"Species {code} has {cur2.fetchone()[0]} nests\")\n",
    "    cur2.close() # for good form, close that cursor"
   ]
  },
  {
   "cell_type": "markdown",
   "id": "26aa27da",
   "metadata": {},
   "source": [
    "have to close that connection if you want to access your database from somewhere else -- can't open it as long as that kernel and connection are running and alive."
   ]
  },
  {
   "cell_type": "markdown",
   "id": "fa26832b",
   "metadata": {},
   "source": [
    "The above Python interpolation is actually rather dangerous. It has caused many database hacks!\n",
    "and there's a better way to do it... !\n",
    "\n"
   ]
  },
  {
   "cell_type": "markdown",
   "id": "cb0681dc",
   "metadata": {},
   "source": [
    "swap '%' with ? (no quotes)"
   ]
  },
  {
   "cell_type": "code",
   "execution_count": 45,
   "id": "5c945d5f",
   "metadata": {},
   "outputs": [
    {
     "name": "stdout",
     "output_type": "stream",
     "text": [
      "Species agsq has 0 nests\n",
      "Species amcr has 0 nests\n",
      "Species amgp has 29 nests\n"
     ]
    }
   ],
   "source": [
    "query = \"\"\"\n",
    "    SELECT COUNT(*) FROM Bird_nests\n",
    "    WHERE Species = ?\n",
    "\"\"\"\n",
    "\n",
    "cur.execute(\"SELECT Code FROM Species LIMIT 3\")\n",
    "\n",
    "for row in cur.fetchall(): # DuckDB workaround\n",
    "    code = row[0]\n",
    "    #NOT NEEEDED! prepared_query = query % code\n",
    "    #print(prepared_query)\n",
    "    cur2 = conn.cursor() # case-sensitive\n",
    "    cur2.execute(query, [code]) # <-- added argument here\n",
    "    print(f\"Species {code} has {cur2.fetchone()[0]} nests\")\n",
    "    cur2.close() # for good form, close that cursor"
   ]
  },
  {
   "cell_type": "markdown",
   "id": "9d77f887",
   "metadata": {},
   "source": [
    "Rather than doing string manipulation, better to use those extra parameters \n"
   ]
  },
  {
   "cell_type": "markdown",
   "id": "372e63bd",
   "metadata": {},
   "source": [
    "Let's illustrate the danger with a different example"
   ]
  },
  {
   "cell_type": "code",
   "execution_count": 46,
   "id": "47c1743c",
   "metadata": {},
   "outputs": [
    {
     "data": {
      "text/plain": [
       "<duckdb.duckdb.DuckDBPyConnection at 0x11146b230>"
      ]
     },
     "execution_count": 46,
     "metadata": {},
     "output_type": "execute_result"
    }
   ],
   "source": [
    "abbrev = \"TS\"\n",
    "name = \"Taylor Swift\"\n",
    "cur.execute(\"\"\"\n",
    "        INSERT INTO Personnel (Abbreviation, Name)\n",
    "            VALUES ('%s', '%s')    \n",
    "        \"\"\" % (abbrev, name)\n",
    "            )"
   ]
  },
  {
   "cell_type": "code",
   "execution_count": 47,
   "id": "06d106af",
   "metadata": {},
   "outputs": [
    {
     "data": {
      "text/plain": [
       "[('emagnuson', 'Emily Magnuson'),\n",
       " ('mcorrell', 'Maureen Correll'),\n",
       " ('TS', 'Taylor Swift')]"
      ]
     },
     "execution_count": 47,
     "metadata": {},
     "output_type": "execute_result"
    }
   ],
   "source": [
    "cur.execute(\"SELECT * FROM Personnel\")\n",
    "cur.fetchall()[-3:]"
   ]
  },
  {
   "cell_type": "markdown",
   "id": "e76927d9",
   "metadata": {},
   "source": [
    "used Python interpolation, '%s' "
   ]
  },
  {
   "cell_type": "code",
   "execution_count": 48,
   "id": "75b2a277",
   "metadata": {},
   "outputs": [
    {
     "ename": "ParserException",
     "evalue": "Parser Error: syntax error at or near \"Brien\"",
     "output_type": "error",
     "traceback": [
      "\u001b[0;31m---------------------------------------------------------------------------\u001b[0m",
      "\u001b[0;31mParserException\u001b[0m                           Traceback (most recent call last)",
      "Cell \u001b[0;32mIn[48], line 3\u001b[0m\n\u001b[1;32m      1\u001b[0m abbrev \u001b[38;5;241m=\u001b[39m \u001b[38;5;124m\"\u001b[39m\u001b[38;5;124mCO\u001b[39m\u001b[38;5;124m\"\u001b[39m\n\u001b[1;32m      2\u001b[0m name \u001b[38;5;241m=\u001b[39m \u001b[38;5;124m\"\u001b[39m\u001b[38;5;124mConan O\u001b[39m\u001b[38;5;124m'\u001b[39m\u001b[38;5;124mBrien\u001b[39m\u001b[38;5;124m\"\u001b[39m\n\u001b[0;32m----> 3\u001b[0m \u001b[43mcur\u001b[49m\u001b[38;5;241;43m.\u001b[39;49m\u001b[43mexecute\u001b[49m\u001b[43m(\u001b[49m\u001b[38;5;124;43m\"\"\"\u001b[39;49m\n\u001b[1;32m      4\u001b[0m \u001b[38;5;124;43m        INSERT INTO Personnel (Abbreviation, Name)\u001b[39;49m\n\u001b[1;32m      5\u001b[0m \u001b[38;5;124;43m            VALUES (\u001b[39;49m\u001b[38;5;124;43m'\u001b[39;49m\u001b[38;5;132;43;01m%s\u001b[39;49;00m\u001b[38;5;124;43m'\u001b[39;49m\u001b[38;5;124;43m, \u001b[39;49m\u001b[38;5;124;43m'\u001b[39;49m\u001b[38;5;132;43;01m%s\u001b[39;49;00m\u001b[38;5;124;43m'\u001b[39;49m\u001b[38;5;124;43m)    \u001b[39;49m\n\u001b[1;32m      6\u001b[0m \u001b[38;5;124;43m        \u001b[39;49m\u001b[38;5;124;43m\"\"\"\u001b[39;49m\u001b[43m \u001b[49m\u001b[38;5;241;43m%\u001b[39;49m\u001b[43m \u001b[49m\u001b[43m(\u001b[49m\u001b[43mabbrev\u001b[49m\u001b[43m,\u001b[49m\u001b[43m \u001b[49m\u001b[43mname\u001b[49m\u001b[43m)\u001b[49m\n\u001b[1;32m      7\u001b[0m \u001b[43m            \u001b[49m\u001b[43m)\u001b[49m\n",
      "\u001b[0;31mParserException\u001b[0m: Parser Error: syntax error at or near \"Brien\""
     ]
    }
   ],
   "source": [
    "abbrev = \"CO\"\n",
    "name = \"Conan O'Brien\"\n",
    "cur.execute(\"\"\"\n",
    "        INSERT INTO Personnel (Abbreviation, Name)\n",
    "            VALUES ('%s', '%s')    \n",
    "        \"\"\" % (abbrev, name)\n",
    "            )"
   ]
  },
  {
   "cell_type": "code",
   "execution_count": 50,
   "id": "a4e265e0",
   "metadata": {},
   "outputs": [
    {
     "data": {
      "text/plain": [
       "\"\\n        INSERT INTO Personnel (Abbreviation, Name)\\n            VALUES ('CO', 'Conan O'Brien')    \\n        \""
      ]
     },
     "execution_count": 50,
     "metadata": {},
     "output_type": "execute_result"
    }
   ],
   "source": [
    "\"\"\"\n",
    "        INSERT INTO Personnel (Abbreviation, Name)\n",
    "            VALUES ('%s', '%s')    \n",
    "        \"\"\" % (abbrev, name)\n",
    "            "
   ]
  },
  {
   "cell_type": "markdown",
   "id": "e6d4e497",
   "metadata": {},
   "source": [
    "issue bc ' in name"
   ]
  },
  {
   "cell_type": "code",
   "execution_count": 53,
   "id": "c6828974",
   "metadata": {},
   "outputs": [
    {
     "data": {
      "text/plain": [
       "<duckdb.duckdb.DuckDBPyConnection at 0x11146b230>"
      ]
     },
     "execution_count": 53,
     "metadata": {},
     "output_type": "execute_result"
    }
   ],
   "source": [
    "abbrev = \"CO\"\n",
    "name = \"Conan O'Brien\"\n",
    "cur.execute(\"\"\"\n",
    "        INSERT INTO Personnel (Abbreviation, Name)\n",
    "            VALUES (?, ?)    \n",
    "        \"\"\",  # use ? and [variable, variable] instead of string\n",
    "[abbrev, name] # updated argument here\n",
    ")"
   ]
  },
  {
   "cell_type": "code",
   "execution_count": 54,
   "id": "4c4cfcc9",
   "metadata": {},
   "outputs": [
    {
     "data": {
      "text/plain": [
       "[('mcorrell', 'Maureen Correll'),\n",
       " ('TS', 'Taylor Swift'),\n",
       " ('CO', \"Conan O'Brien\")]"
      ]
     },
     "execution_count": 54,
     "metadata": {},
     "output_type": "execute_result"
    }
   ],
   "source": [
    "cur.execute(\"SELECT * FROM Personnel\")\n",
    "cur.fetchall()[-3:]"
   ]
  },
  {
   "cell_type": "code",
   "execution_count": null,
   "id": "9d8e6801",
   "metadata": {},
   "outputs": [],
   "source": []
  }
 ],
 "metadata": {
  "kernelspec": {
   "display_name": "mpc-env-kernel",
   "language": "python",
   "name": "mpc-env-kernel"
  },
  "language_info": {
   "codemirror_mode": {
    "name": "ipython",
    "version": 3
   },
   "file_extension": ".py",
   "mimetype": "text/x-python",
   "name": "python",
   "nbconvert_exporter": "python",
   "pygments_lexer": "ipython3",
   "version": "3.11.4"
  }
 },
 "nbformat": 4,
 "nbformat_minor": 5
}
