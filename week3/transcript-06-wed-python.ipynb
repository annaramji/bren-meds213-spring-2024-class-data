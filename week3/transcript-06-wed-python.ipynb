{
 "cells": [
  {
   "cell_type": "code",
   "execution_count": 1,
   "id": "253c9740-293e-4472-b818-c4d320f2c864",
   "metadata": {},
   "outputs": [],
   "source": [
    "import sqlite3\n",
    "conn = sqlite3.connect(\"database.db\")"
   ]
  },
  {
   "cell_type": "markdown",
   "id": "f8d9e3b1-f9cb-4937-83e6-64a9b2070aed",
   "metadata": {},
   "source": [
    "# Fragility\n",
    "\n",
    "Fragile: a non-obvious, distant dependency in software.  Eg: relying on the order of columns returned by a `SELECT *`.  The order is determined by the database schema, which is to say it's not defined anywhere close to the code.  The order of columns will not change dynamically in the way that rows can be returned in differing orders on every query.  Still, if the schema ever gets updated and the column order changes (which might seem like an innocuous change to the person modifying the schema) code will correspondingly need to be changed.  That can be overlooked, or even if remembered, it can be very hard to find all places in the code that need to be changed."
   ]
  },
  {
   "cell_type": "code",
   "execution_count": 2,
   "id": "82cc5546-3182-4f48-b70a-bdf186dac49f",
   "metadata": {},
   "outputs": [],
   "source": [
    "c = conn.cursor()\n",
    "c.execute(\"SELECT * FROM Species LIMIT 3\")\n",
    "rows = c.fetchall()"
   ]
  },
  {
   "cell_type": "code",
   "execution_count": 3,
   "id": "0a382367-36f9-4c70-a0da-56a28cab8b20",
   "metadata": {},
   "outputs": [
    {
     "data": {
      "text/plain": [
       "'Arctic ground squirrel'"
      ]
     },
     "execution_count": 3,
     "metadata": {},
     "output_type": "execute_result"
    }
   ],
   "source": [
    "first_common_name = rows[0][1] # assumes second column is common name\n",
    "first_common_name"
   ]
  },
  {
   "cell_type": "markdown",
   "id": "080d7102-b9c6-448a-9a53-5f1f8237fff2",
   "metadata": {},
   "source": [
    "Same example, but with explicit column names to establish linkage between query and tuples that are returned."
   ]
  },
  {
   "cell_type": "code",
   "execution_count": 4,
   "id": "79fca03f-0c8c-4676-9b4d-7717701b507d",
   "metadata": {},
   "outputs": [
    {
     "data": {
      "text/plain": [
       "'Arctic ground squirrel'"
      ]
     },
     "execution_count": 4,
     "metadata": {},
     "output_type": "execute_result"
    }
   ],
   "source": [
    "c.execute(\"\"\"\n",
    "    SELECT Code, Common_name, Scientific_name, Relevance\n",
    "    FROM Species\n",
    "    LIMIT 3\"\"\")\n",
    "\n",
    "rows = c.fetchall()\n",
    "first_common_name = rows[0][1] # can see two lines above that second column is common name\n",
    "first_common_name"
   ]
  },
  {
   "cell_type": "markdown",
   "id": "a8f5711b-646e-4b4d-a9be-dd95a09ef7ee",
   "metadata": {},
   "source": [
    "Takeaway: avoid `SELECT *`, instead explicitly name columns."
   ]
  },
  {
   "cell_type": "markdown",
   "id": "e7729af0-a7fc-4ce3-822b-8fdc0e211abd",
   "metadata": {},
   "source": [
    "# Safe interpolation of query parameters"
   ]
  },
  {
   "cell_type": "markdown",
   "id": "aa3b00a1-9a51-4af3-a23c-aa4816eb5a8c",
   "metadata": {},
   "source": [
    "All the queries we've seen so far have been complete and static.  But it is common to work with parameterized queries.  Think back to goodreads.com example: a user requests to view the reviews for a book.  The book ID is not known in advance (i.e., when the software was written), it is supplied as part of the request.  Ergo, the website software has a template query in hand: `SELECT * FROM book_reviews WHERE book_id = ? ORDER BY ... LIMIT 10`.  When the request is received it then substitutes the requested book ID into the template.\n",
    "\n",
    "The question is, how to do this safely?  First, let's look at using Python interpolation."
   ]
  },
  {
   "cell_type": "code",
   "execution_count": 5,
   "id": "a8b13a8b-59d8-46ee-90dc-245f1a575d99",
   "metadata": {},
   "outputs": [],
   "source": [
    "template = \"\"\"SELECT Name FROM Personnel\n",
    "    WHERE Abbreviation = '%s'\"\"\""
   ]
  },
  {
   "cell_type": "code",
   "execution_count": 6,
   "id": "6b410fdf-6146-441f-890a-e9d80654dd15",
   "metadata": {},
   "outputs": [
    {
     "data": {
      "text/plain": [
       "[('Aaron Gottesman',)]"
      ]
     },
     "execution_count": 6,
     "metadata": {},
     "output_type": "execute_result"
    }
   ],
   "source": [
    "abbrev = \"agottesman\"\n",
    "c.execute(template % abbrev) # interpolate abbrev into the template\n",
    "c.fetchall()"
   ]
  },
  {
   "cell_type": "markdown",
   "id": "14f43a02-c9f5-4670-991d-2636423e9bcf",
   "metadata": {},
   "source": [
    "Extended example that shows a more realistic example of using a query template: doing some processing on each row that is returned.  (The processing here is trivial, but in general, including in your homework, it can be far more complex.)  This example illustrates:\n",
    "- template query and using Python interpolation\n",
    "- iterating over the rows of a query\n",
    "- creating a second cursor to perform a second query simultaneously\n",
    "- using `fetchone` to retrieve the one row that is returned by a `COUNT(*)`"
   ]
  },
  {
   "cell_type": "code",
   "execution_count": 7,
   "id": "5e450904-dfbe-4306-8f1a-7879f39a87ab",
   "metadata": {},
   "outputs": [
    {
     "name": "stdout",
     "output_type": "stream",
     "text": [
      "species agsq has 0 nests\n",
      "species amcr has 0 nests\n",
      "species amgp has 29 nests\n",
      "species arfo has 0 nests\n",
      "species arte has 0 nests\n",
      "species basa has 0 nests\n",
      "species bbis has 0 nests\n",
      "species bbpl has 43 nests\n",
      "species bbsa has 0 nests\n",
      "species besw has 0 nests\n",
      "species bltu has 0 nests\n",
      "species brant has 0 nests\n",
      "species brbe has 0 nests\n",
      "species brle has 0 nests\n",
      "species btcu has 0 nests\n",
      "species btgo has 3 nests\n",
      "species cole has 0 nests\n",
      "species cora has 0 nests\n",
      "species cosn has 0 nests\n",
      "species crpl has 2 nests\n",
      "species cusa has 0 nests\n",
      "species dunl has 101 nests\n",
      "species eywa has 0 nests\n",
      "species glgu has 0 nests\n",
      "species goea has 0 nests\n",
      "species gwfg has 0 nests\n",
      "species gwgu has 0 nests\n",
      "species gwte has 0 nests\n",
      "species gyrf has 0 nests\n",
      "species herg has 3 nests\n",
      "species hore has 0 nests\n",
      "species hugo has 0 nests\n",
      "species kill has 0 nests\n",
      "species lalo has 33 nests\n",
      "species lbdo has 1 nests\n",
      "species lesa has 0 nests\n",
      "species leye has 0 nests\n",
      "species list has 0 nests\n",
      "species ltdu has 0 nests\n",
      "species ltja has 0 nests\n",
      "species ltwe has 0 nests\n",
      "species mago has 0 nests\n",
      "species megu has 0 nests\n",
      "species merl has 0 nests\n",
      "species noha has 0 nests\n",
      "species nopi has 0 nests\n",
      "species nrvo has 0 nests\n",
      "species nsho has 0 nests\n",
      "species pagp has 0 nests\n",
      "species paja has 2 nests\n",
      "species palo has 0 nests\n",
      "species pefa has 0 nests\n",
      "species pesa has 14 nests\n",
      "species pobe has 0 nests\n",
      "species poja has 0 nests\n",
      "species pusa has 0 nests\n",
      "species refo has 0 nests\n",
      "species rekn has 0 nests\n",
      "species reph has 80 nests\n",
      "species rlha has 0 nests\n",
      "species rnph has 74 nests\n",
      "species rnst has 0 nests\n",
      "species rosa has 0 nests\n",
      "species rtpi has 0 nests\n",
      "species ruff has 0 nests\n",
      "species rutu has 30 nests\n",
      "species sacr has 0 nests\n",
      "species sagu has 0 nests\n",
      "species sand has 0 nests\n",
      "species savs has 0 nests\n",
      "species sbdo has 1 nests\n",
      "species sbgu has 0 nests\n",
      "species seow has 0 nests\n",
      "species sepl has 105 nests\n",
      "species sesa has 485 nests\n",
      "species snow has 0 nests\n",
      "species spei has 0 nests\n",
      "species spre has 0 nests\n",
      "species spsa has 0 nests\n",
      "species spts has 0 nests\n",
      "species stsa has 0 nests\n",
      "species stwe has 0 nests\n",
      "species test has 1 nests\n",
      "species thgu has 0 nests\n",
      "species tusw has 0 nests\n",
      "species tuvo has 0 nests\n",
      "species unfa has 0 nests\n",
      "species ungu has 0 nests\n",
      "species unja has 0 nests\n",
      "species unle has 0 nests\n",
      "species unra has 0 nests\n",
      "species vegu has 0 nests\n",
      "species wesa has 457 nests\n",
      "species whim has 0 nests\n",
      "species wipt has 0 nests\n",
      "species wisn has 0 nests\n",
      "species wolv has 0 nests\n",
      "species wosa has 0 nests\n",
      "species wrsa has 83 nests\n"
     ]
    }
   ],
   "source": [
    "template = \"\"\"SELECT COUNT(*)\n",
    "    FROM Bird_nests\n",
    "    WHERE Species = '%s'\n",
    "\"\"\"\n",
    "\n",
    "c.execute(\"SELECT Code FROM Species\")\n",
    "for row in c:\n",
    "    code = row[0]\n",
    "    c2 = conn.cursor()\n",
    "    c2.execute(template % code)\n",
    "    print(\"species %s has %s nests\" % (code, c2.fetchone()[0]))"
   ]
  },
  {
   "cell_type": "markdown",
   "id": "211929bb-f266-4b82-b079-b90eca78a598",
   "metadata": {},
   "source": [
    "Refresher: `fetchone` (returns a single tuple) vs `fetchall` (returns a list of tuples)."
   ]
  },
  {
   "cell_type": "code",
   "execution_count": 8,
   "id": "0473c3b8-42b3-40ba-8680-5e58807eec62",
   "metadata": {},
   "outputs": [
    {
     "data": {
      "text/plain": [
       "('agsq',)"
      ]
     },
     "execution_count": 8,
     "metadata": {},
     "output_type": "execute_result"
    }
   ],
   "source": [
    "c.execute(\"SELECT Code FROM Species\").fetchone()"
   ]
  },
  {
   "cell_type": "code",
   "execution_count": 9,
   "id": "644c84b5-b59c-4679-a091-53c0024001ae",
   "metadata": {},
   "outputs": [
    {
     "data": {
      "text/plain": [
       "[('agsq',), ('amcr',), ('amgp',)]"
      ]
     },
     "execution_count": 9,
     "metadata": {},
     "output_type": "execute_result"
    }
   ],
   "source": [
    "c.execute(\"SELECT Code FROM Species LIMIT 3\").fetchall()"
   ]
  },
  {
   "cell_type": "markdown",
   "id": "50d26727-fdcf-42b4-8516-241e1579ea5b",
   "metadata": {},
   "source": [
    "Now for a safer method of interpolation.  Notice `?` in query without quotes.  Notice passing parameter(s) as second argument to `execute()`."
   ]
  },
  {
   "cell_type": "code",
   "execution_count": 10,
   "id": "eac55bdd-81f4-4ca7-82ee-61401c72ed73",
   "metadata": {},
   "outputs": [
    {
     "name": "stdout",
     "output_type": "stream",
     "text": [
      "species agsq has 0 nests\n",
      "species amcr has 0 nests\n",
      "species amgp has 29 nests\n",
      "species arfo has 0 nests\n",
      "species arte has 0 nests\n",
      "species basa has 0 nests\n",
      "species bbis has 0 nests\n",
      "species bbpl has 43 nests\n",
      "species bbsa has 0 nests\n",
      "species besw has 0 nests\n",
      "species bltu has 0 nests\n",
      "species brant has 0 nests\n",
      "species brbe has 0 nests\n",
      "species brle has 0 nests\n",
      "species btcu has 0 nests\n",
      "species btgo has 3 nests\n",
      "species cole has 0 nests\n",
      "species cora has 0 nests\n",
      "species cosn has 0 nests\n",
      "species crpl has 2 nests\n",
      "species cusa has 0 nests\n",
      "species dunl has 101 nests\n",
      "species eywa has 0 nests\n",
      "species glgu has 0 nests\n",
      "species goea has 0 nests\n",
      "species gwfg has 0 nests\n",
      "species gwgu has 0 nests\n",
      "species gwte has 0 nests\n",
      "species gyrf has 0 nests\n",
      "species herg has 3 nests\n",
      "species hore has 0 nests\n",
      "species hugo has 0 nests\n",
      "species kill has 0 nests\n",
      "species lalo has 33 nests\n",
      "species lbdo has 1 nests\n",
      "species lesa has 0 nests\n",
      "species leye has 0 nests\n",
      "species list has 0 nests\n",
      "species ltdu has 0 nests\n",
      "species ltja has 0 nests\n",
      "species ltwe has 0 nests\n",
      "species mago has 0 nests\n",
      "species megu has 0 nests\n",
      "species merl has 0 nests\n",
      "species noha has 0 nests\n",
      "species nopi has 0 nests\n",
      "species nrvo has 0 nests\n",
      "species nsho has 0 nests\n",
      "species pagp has 0 nests\n",
      "species paja has 2 nests\n",
      "species palo has 0 nests\n",
      "species pefa has 0 nests\n",
      "species pesa has 14 nests\n",
      "species pobe has 0 nests\n",
      "species poja has 0 nests\n",
      "species pusa has 0 nests\n",
      "species refo has 0 nests\n",
      "species rekn has 0 nests\n",
      "species reph has 80 nests\n",
      "species rlha has 0 nests\n",
      "species rnph has 74 nests\n",
      "species rnst has 0 nests\n",
      "species rosa has 0 nests\n",
      "species rtpi has 0 nests\n",
      "species ruff has 0 nests\n",
      "species rutu has 30 nests\n",
      "species sacr has 0 nests\n",
      "species sagu has 0 nests\n",
      "species sand has 0 nests\n",
      "species savs has 0 nests\n",
      "species sbdo has 1 nests\n",
      "species sbgu has 0 nests\n",
      "species seow has 0 nests\n",
      "species sepl has 105 nests\n",
      "species sesa has 485 nests\n",
      "species snow has 0 nests\n",
      "species spei has 0 nests\n",
      "species spre has 0 nests\n",
      "species spsa has 0 nests\n",
      "species spts has 0 nests\n",
      "species stsa has 0 nests\n",
      "species stwe has 0 nests\n",
      "species test has 1 nests\n",
      "species thgu has 0 nests\n",
      "species tusw has 0 nests\n",
      "species tuvo has 0 nests\n",
      "species unfa has 0 nests\n",
      "species ungu has 0 nests\n",
      "species unja has 0 nests\n",
      "species unle has 0 nests\n",
      "species unra has 0 nests\n",
      "species vegu has 0 nests\n",
      "species wesa has 457 nests\n",
      "species whim has 0 nests\n",
      "species wipt has 0 nests\n",
      "species wisn has 0 nests\n",
      "species wolv has 0 nests\n",
      "species wosa has 0 nests\n",
      "species wrsa has 83 nests\n"
     ]
    }
   ],
   "source": [
    "template = \"\"\"SELECT COUNT(*)\n",
    "    FROM Bird_nests\n",
    "    WHERE Species = ?\n",
    "\"\"\"\n",
    "\n",
    "c.execute(\"SELECT Code FROM Species\")\n",
    "for row in c:\n",
    "    code = row[0]\n",
    "    c2 = conn.cursor()\n",
    "    c2.execute(template, [code])\n",
    "    print(\"species %s has %s nests\" % (code, c2.fetchone()[0]))"
   ]
  },
  {
   "cell_type": "markdown",
   "id": "463b8824-8107-4f72-83dd-efb785a8e0c1",
   "metadata": {},
   "source": [
    "What's the big improvement?  Well, imagine we are interpolating in text values such as personal names.  Using Python interpolation:"
   ]
  },
  {
   "cell_type": "code",
   "execution_count": 11,
   "id": "80912f3e-0293-44ee-b531-4f5b03e4d49e",
   "metadata": {},
   "outputs": [
    {
     "data": {
      "text/plain": [
       "('agottesman', 'Aaron Gottesman')"
      ]
     },
     "execution_count": 11,
     "metadata": {},
     "output_type": "execute_result"
    }
   ],
   "source": [
    "name = \"Aaron Gottesman\"\n",
    "template = \"\"\"SELECT * FROM Personnel\n",
    "    WHERE Name = '%s'\"\"\"\n",
    "c.execute(template % name).fetchone()"
   ]
  },
  {
   "cell_type": "markdown",
   "id": "63d75aaf-aae7-4e94-937f-3c856db34252",
   "metadata": {},
   "source": [
    "Same example, but now let's pretend we get a name that has an apostrophe in it."
   ]
  },
  {
   "cell_type": "code",
   "execution_count": 12,
   "id": "719a7ee2-facb-4d48-b124-68cb8f56687a",
   "metadata": {},
   "outputs": [
    {
     "ename": "OperationalError",
     "evalue": "near \"Brien\": syntax error",
     "output_type": "error",
     "traceback": [
      "\u001b[0;31m---------------------------------------------------------------------------\u001b[0m",
      "\u001b[0;31mOperationalError\u001b[0m                          Traceback (most recent call last)",
      "Cell \u001b[0;32mIn[12], line 4\u001b[0m\n\u001b[1;32m      1\u001b[0m name \u001b[38;5;241m=\u001b[39m \u001b[38;5;124m\"\u001b[39m\u001b[38;5;124mDan O\u001b[39m\u001b[38;5;124m'\u001b[39m\u001b[38;5;124mBrien\u001b[39m\u001b[38;5;124m\"\u001b[39m\n\u001b[1;32m      2\u001b[0m template \u001b[38;5;241m=\u001b[39m \u001b[38;5;124m\"\"\"\u001b[39m\u001b[38;5;124mSELECT * FROM Personnel\u001b[39m\n\u001b[1;32m      3\u001b[0m \u001b[38;5;124m    WHERE Name = \u001b[39m\u001b[38;5;124m'\u001b[39m\u001b[38;5;132;01m%s\u001b[39;00m\u001b[38;5;124m'\u001b[39m\u001b[38;5;124m\"\"\"\u001b[39m\n\u001b[0;32m----> 4\u001b[0m \u001b[43mc\u001b[49m\u001b[38;5;241;43m.\u001b[39;49m\u001b[43mexecute\u001b[49m\u001b[43m(\u001b[49m\u001b[43mtemplate\u001b[49m\u001b[43m \u001b[49m\u001b[38;5;241;43m%\u001b[39;49m\u001b[43m \u001b[49m\u001b[43mname\u001b[49m\u001b[43m)\u001b[49m\u001b[38;5;241m.\u001b[39mfetchone()\n",
      "\u001b[0;31mOperationalError\u001b[0m: near \"Brien\": syntax error"
     ]
    }
   ],
   "source": [
    "name = \"Dan O'Brien\"\n",
    "template = \"\"\"SELECT * FROM Personnel\n",
    "    WHERE Name = '%s'\"\"\"\n",
    "c.execute(template % name).fetchone()"
   ]
  },
  {
   "cell_type": "markdown",
   "id": "d73107e6-a1d5-4d4b-b3db-7a376b0bb79e",
   "metadata": {},
   "source": [
    "Why the error?  Because this is what the Python interpolation created.  Notice it isn't syntactically correct."
   ]
  },
  {
   "cell_type": "code",
   "execution_count": 13,
   "id": "6efb16c1-4824-4f1b-89b0-dd1a60b698bf",
   "metadata": {},
   "outputs": [
    {
     "data": {
      "text/plain": [
       "\"SELECT * FROM Personnel\\n    WHERE Name = 'Dan O'Brien'\""
      ]
     },
     "execution_count": 13,
     "metadata": {},
     "output_type": "execute_result"
    }
   ],
   "source": [
    "template % name"
   ]
  },
  {
   "cell_type": "markdown",
   "id": "b0555e36-591f-4f57-8dff-76c6e412b664",
   "metadata": {},
   "source": [
    "Now using database interpolation, query succeeds because behind the scenes database adds quotes and does the interpolation correctly:"
   ]
  },
  {
   "cell_type": "code",
   "execution_count": 14,
   "id": "06110a58-5145-47bf-9efd-198380ce06b1",
   "metadata": {},
   "outputs": [
    {
     "data": {
      "text/plain": [
       "[]"
      ]
     },
     "execution_count": 14,
     "metadata": {},
     "output_type": "execute_result"
    }
   ],
   "source": [
    "name = \"Dan O'Brien\"\n",
    "template = \"\"\"SELECT * FROM Personnel\n",
    "    WHERE Name = ?\"\"\"\n",
    "c.execute(template, [name]).fetchall()"
   ]
  },
  {
   "cell_type": "markdown",
   "id": "6549bdea-b24b-430f-bf10-5d431033095c",
   "metadata": {},
   "source": [
    "Takeaway: use database interpolation.  Remember that in `execute()` parameters are passed in as the second argument, so say this:\n",
    "\n",
    "```c.execute(template, [params...])```\n",
    "\n",
    "Not this:\n",
    "\n",
    "```c.execute(template % [params...])```"
   ]
  },
  {
   "cell_type": "markdown",
   "id": "253c9c60-aed4-452f-87a2-679b24bd622a",
   "metadata": {},
   "source": [
    "# Pandas convenience function"
   ]
  },
  {
   "cell_type": "markdown",
   "id": "ee14ff5f-9aee-4d1c-8dcd-5eef9405dbf0",
   "metadata": {},
   "source": [
    "Super easy way to load a query into a dataframe."
   ]
  },
  {
   "cell_type": "code",
   "execution_count": 15,
   "id": "e83465d7-7fa0-4956-beb0-e9a188ce2b0d",
   "metadata": {},
   "outputs": [],
   "source": [
    "import pandas as pd"
   ]
  },
  {
   "cell_type": "code",
   "execution_count": 16,
   "id": "4bf8a395-4b41-40c5-949e-6be3e088ab13",
   "metadata": {},
   "outputs": [
    {
     "data": {
      "text/html": [
       "<div>\n",
       "<style scoped>\n",
       "    .dataframe tbody tr th:only-of-type {\n",
       "        vertical-align: middle;\n",
       "    }\n",
       "\n",
       "    .dataframe tbody tr th {\n",
       "        vertical-align: top;\n",
       "    }\n",
       "\n",
       "    .dataframe thead th {\n",
       "        text-align: right;\n",
       "    }\n",
       "</style>\n",
       "<table border=\"1\" class=\"dataframe\">\n",
       "  <thead>\n",
       "    <tr style=\"text-align: right;\">\n",
       "      <th></th>\n",
       "      <th>Code</th>\n",
       "      <th>Common_name</th>\n",
       "      <th>Scientific_name</th>\n",
       "      <th>Relevance</th>\n",
       "    </tr>\n",
       "  </thead>\n",
       "  <tbody>\n",
       "    <tr>\n",
       "      <th>0</th>\n",
       "      <td>agsq</td>\n",
       "      <td>Arctic ground squirrel</td>\n",
       "      <td>Spermophilus parryii</td>\n",
       "      <td>Potential predator (eggs; mammal)</td>\n",
       "    </tr>\n",
       "    <tr>\n",
       "      <th>1</th>\n",
       "      <td>amcr</td>\n",
       "      <td>American Crow</td>\n",
       "      <td>Corvus brachyrhynchos</td>\n",
       "      <td>Potential predator (avian)</td>\n",
       "    </tr>\n",
       "    <tr>\n",
       "      <th>2</th>\n",
       "      <td>amgp</td>\n",
       "      <td>American Golden-Plover</td>\n",
       "      <td>Pluvialis dominica</td>\n",
       "      <td>Study species</td>\n",
       "    </tr>\n",
       "    <tr>\n",
       "      <th>3</th>\n",
       "      <td>arfo</td>\n",
       "      <td>Arctic fox</td>\n",
       "      <td>Alopex lagopus</td>\n",
       "      <td>Potential predator (mammal)</td>\n",
       "    </tr>\n",
       "    <tr>\n",
       "      <th>4</th>\n",
       "      <td>arte</td>\n",
       "      <td>Arctic Tern</td>\n",
       "      <td>Sterna paradisaea</td>\n",
       "      <td>Incidental monitoring</td>\n",
       "    </tr>\n",
       "    <tr>\n",
       "      <th>...</th>\n",
       "      <td>...</td>\n",
       "      <td>...</td>\n",
       "      <td>...</td>\n",
       "      <td>...</td>\n",
       "    </tr>\n",
       "    <tr>\n",
       "      <th>94</th>\n",
       "      <td>wipt</td>\n",
       "      <td>Willow Ptarmigan</td>\n",
       "      <td>Lagopus lagopus</td>\n",
       "      <td>Incidental monitoring</td>\n",
       "    </tr>\n",
       "    <tr>\n",
       "      <th>95</th>\n",
       "      <td>wisn</td>\n",
       "      <td>Wilson's Snipe</td>\n",
       "      <td>Gallinago delicata</td>\n",
       "      <td>Study species</td>\n",
       "    </tr>\n",
       "    <tr>\n",
       "      <th>96</th>\n",
       "      <td>wolv</td>\n",
       "      <td>Wolverine</td>\n",
       "      <td>Gulo gulo</td>\n",
       "      <td>Potential predator (mammal)</td>\n",
       "    </tr>\n",
       "    <tr>\n",
       "      <th>97</th>\n",
       "      <td>wosa</td>\n",
       "      <td>Wood Sandpiper</td>\n",
       "      <td>Tringa glareola</td>\n",
       "      <td>Study species</td>\n",
       "    </tr>\n",
       "    <tr>\n",
       "      <th>98</th>\n",
       "      <td>wrsa</td>\n",
       "      <td>White-rumped Sandpiper</td>\n",
       "      <td>Calidris fuscicollis</td>\n",
       "      <td>Study species</td>\n",
       "    </tr>\n",
       "  </tbody>\n",
       "</table>\n",
       "<p>99 rows × 4 columns</p>\n",
       "</div>"
      ],
      "text/plain": [
       "    Code             Common_name        Scientific_name  \\\n",
       "0   agsq  Arctic ground squirrel   Spermophilus parryii   \n",
       "1   amcr           American Crow  Corvus brachyrhynchos   \n",
       "2   amgp  American Golden-Plover     Pluvialis dominica   \n",
       "3   arfo              Arctic fox         Alopex lagopus   \n",
       "4   arte             Arctic Tern      Sterna paradisaea   \n",
       "..   ...                     ...                    ...   \n",
       "94  wipt        Willow Ptarmigan        Lagopus lagopus   \n",
       "95  wisn          Wilson's Snipe     Gallinago delicata   \n",
       "96  wolv               Wolverine              Gulo gulo   \n",
       "97  wosa          Wood Sandpiper        Tringa glareola   \n",
       "98  wrsa  White-rumped Sandpiper   Calidris fuscicollis   \n",
       "\n",
       "                            Relevance  \n",
       "0   Potential predator (eggs; mammal)  \n",
       "1          Potential predator (avian)  \n",
       "2                       Study species  \n",
       "3         Potential predator (mammal)  \n",
       "4               Incidental monitoring  \n",
       "..                                ...  \n",
       "94              Incidental monitoring  \n",
       "95                      Study species  \n",
       "96        Potential predator (mammal)  \n",
       "97                      Study species  \n",
       "98                      Study species  \n",
       "\n",
       "[99 rows x 4 columns]"
      ]
     },
     "execution_count": 16,
     "metadata": {},
     "output_type": "execute_result"
    }
   ],
   "source": [
    "pd.read_sql(\"SELECT * FROM Species\", conn)"
   ]
  }
 ],
 "metadata": {
  "kernelspec": {
   "display_name": "Python 3 (ipykernel)",
   "language": "python",
   "name": "python3"
  },
  "language_info": {
   "codemirror_mode": {
    "name": "ipython",
    "version": 3
   },
   "file_extension": ".py",
   "mimetype": "text/x-python",
   "name": "python",
   "nbconvert_exporter": "python",
   "pygments_lexer": "ipython3",
   "version": "3.10.8"
  }
 },
 "nbformat": 4,
 "nbformat_minor": 5
}
