{
 "cells": [
  {
   "cell_type": "code",
   "execution_count": null,
   "id": "e8bf4e7c-3d12-4b06-9f14-5956b317470d",
   "metadata": {},
   "outputs": [],
   "source": [
    "# use \"%\" operator (jupyter magic commands) as a partial shell "
   ]
  },
  {
   "cell_type": "code",
   "execution_count": 1,
   "id": "d7b2ef41-9041-4df6-bc86-868c2b6d3e22",
   "metadata": {},
   "outputs": [],
   "source": [
    "# %pip install duckdb\n",
    "import duckdb"
   ]
  },
  {
   "cell_type": "code",
   "execution_count": null,
   "id": "91e1e2ed-944f-44bf-8c13-21e739db232c",
   "metadata": {},
   "outputs": [],
   "source": []
  }
 ],
 "metadata": {
  "kernelspec": {
   "display_name": "Python 3",
   "language": "python",
   "name": "python3"
  },
  "language_info": {
   "codemirror_mode": {
    "name": "ipython",
    "version": 3
   },
   "file_extension": ".py",
   "mimetype": "text/x-python",
   "name": "python",
   "nbconvert_exporter": "python",
   "pygments_lexer": "ipython3",
   "version": "3.8.8"
  }
 },
 "nbformat": 4,
 "nbformat_minor": 5
}
